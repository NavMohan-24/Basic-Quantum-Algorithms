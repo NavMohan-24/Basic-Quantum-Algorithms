{
 "cells": [
  {
   "cell_type": "code",
   "execution_count": 2,
   "metadata": {},
   "outputs": [],
   "source": [
    "from qiskit import*\n",
    "from qiskit.tools.visualization import plot_histogram\n",
    "%matplotlib inline"
   ]
  },
  {
   "cell_type": "code",
   "execution_count": 1,
   "metadata": {},
   "outputs": [
    {
     "data": {
      "application/vnd.jupyter.widget-view+json": {
       "model_id": "32bb5e10992741d29e002834528e29f3",
       "version_major": 2,
       "version_minor": 0
      },
      "text/plain": [
       "HBox(children=(Button(description='H⊗ⁿ', style=ButtonStyle()), Button(description='Oracle', style=ButtonStyle(…"
      ]
     },
     "metadata": {},
     "output_type": "display_data"
    },
    {
     "data": {
      "application/vnd.jupyter.widget-view+json": {
       "model_id": "b6f9122bd9124442b0114329c34d6e6a",
       "version_major": 2,
       "version_minor": 0
      },
      "text/plain": [
       "HTMLMath(value='$$ |00\\\\rangle = |00\\\\rangle $$')"
      ]
     },
     "metadata": {},
     "output_type": "display_data"
    },
    {
     "data": {
      "application/vnd.jupyter.widget-view+json": {
       "model_id": "563ff7cd8e0b49bf8f8eca1706e206de",
       "version_major": 2,
       "version_minor": 0
      },
      "text/plain": [
       "Image(value=b'\\x89PNG\\r\\n\\x1a\\n\\x00\\x00\\x00\\rIHDR\\x00\\x00\\x01\\x05\\x00\\x00\\x00\\xcc\\x08\\x06\\x00\\x00\\x00z\\x06\\xb6…"
      ]
     },
     "metadata": {},
     "output_type": "display_data"
    }
   ],
   "source": [
    "#creating DJ circuit (easy way)\n",
    "from qiskit_textbook.widgets import dj_widget\n",
    "dj_widget(size='small',case='constant') #case can be changed to constant "
   ]
  },
  {
   "cell_type": "markdown",
   "metadata": {},
   "source": [
    "# Deutsch Josza Algorithm"
   ]
  },
  {
   "cell_type": "markdown",
   "metadata": {},
   "source": [
    " For a constant function, it is simple:\n",
    "\n",
    "  1. if f(x) = 0, then apply the  I  gate to the qubit in register 2.\n",
    "  2. if f(x) = 1, then apply the  X  gate to the qubit in register 2."
   ]
  },
  {
   "cell_type": "markdown",
   "metadata": {},
   "source": [
    "For a balanced function, there are many different circuits we can create.\n",
    "One of the ways we can guarantee our circuit is balanced is by performing a CNOT for each qubit in register 1, \n",
    "with the qubit in register 2 as the target."
   ]
  },
  {
   "cell_type": "raw",
   "metadata": {},
   "source": [
    "Input states that output 0 \tInput States that output 1\n",
    "\n",
    " 000                        \t001\n",
    " 011                        \t100\n",
    " 101                        \t010\n",
    " 110                        \t111 "
   ]
  },
  {
   "cell_type": "markdown",
   "metadata": {},
   "source": [
    "# Implementing DJ algorithm with both Constant and Balanced Function"
   ]
  },
  {
   "cell_type": "code",
   "execution_count": 3,
   "metadata": {},
   "outputs": [],
   "source": [
    "from numpy import*\n",
    "from qiskit.providers.ibmq import least_busy\n",
    "n=3"
   ]
  },
  {
   "cell_type": "markdown",
   "metadata": {},
   "source": [
    "# Constant Oracle"
   ]
  },
  {
   "cell_type": "code",
   "execution_count": 5,
   "metadata": {},
   "outputs": [
    {
     "data": {
      "image/png": "[encoded data removed]",
      "text/plain": [
       "<Figure size 140.777x264.88 with 1 Axes>"
      ]
     },
     "execution_count": 5,
     "metadata": {},
     "output_type": "execute_result"
    }
   ],
   "source": [
    "const_oracle=QuantumCircuit(n+1)\n",
    "\n",
    "output=random.randint(2)\n",
    "if output==1:\n",
    "    const_oracle.x(n)\n",
    "\n",
    "const_oracle.draw('mpl')"
   ]
  },
  {
   "cell_type": "markdown",
   "metadata": {},
   "source": [
    "# Balanced Oracle"
   ]
  },
  {
   "cell_type": "markdown",
   "metadata": {},
   "source": [
    "We can make a balanced oracle by applying a CNOT gate with input as control bit and Output as target bit.We can vary input states by using X gate.(0 can be changed into 1 and vice versa)\n"
   ]
  },
  {
   "cell_type": "code",
   "execution_count": 6,
   "metadata": {},
   "outputs": [],
   "source": [
    "balanced_oracle=QuantumCircuit(n+1)\n",
    "b_str='101'"
   ]
  },
  {
   "cell_type": "code",
   "execution_count": null,
   "metadata": {},
   "outputs": [],
   "source": [
    "Here were are creating a balanced oracle."
   ]
  }
 ],
 "metadata": {
  "celltoolbar": "Raw Cell Format",
  "kernelspec": {
   "display_name": "Python 3",
   "language": "python",
   "name": "python3"
  },
  "language_info": {
   "codemirror_mode": {
    "name": "ipython",
    "version": 3
   },
   "file_extension": ".py",
   "mimetype": "text/x-python",
   "name": "python",
   "nbconvert_exporter": "python",
   "pygments_lexer": "ipython3",
   "version": "3.7.7"
  }
 },
 "nbformat": 4,
 "nbformat_minor": 4
}
